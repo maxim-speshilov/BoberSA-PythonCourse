{
 "cells": [
  {
   "cell_type": "code",
   "execution_count": 79,
   "metadata": {},
   "outputs": [],
   "source": [
    "import numpy as np\n",
    "from numba import jit, njit\n",
    "import matplotlib.pyplot as plt\n",
    "import warnings"
   ]
  },
  {
   "cell_type": "code",
   "execution_count": 80,
   "metadata": {},
   "outputs": [],
   "source": [
    "warnings.filterwarnings('ignore')"
   ]
  },
  {
   "cell_type": "code",
   "execution_count": 101,
   "metadata": {},
   "outputs": [],
   "source": [
    "def newton_n(f, df, z_0, max_iter=100):\n",
    "    z = z_0\n",
    "    for n in range(max_iter):\n",
    "        z = z - f(z) / df(z)\n",
    "    return z\n",
    "\n",
    "@jit\n",
    "def newton_n_jitted(f, df, z_0, max_iter=100):\n",
    "    z = z_0\n",
    "    for n in range(max_iter):\n",
    "        z = z - f(z) / df(z)\n",
    "    return z\n",
    "\n",
    "def newton_over_grid(f, df, roots, x, y, max_iter=100):\n",
    "    result = np.empty((y.shape[0], x.shape[0]))\n",
    "    for i, x_0 in enumerate(x):\n",
    "        for j, y_0 in enumerate(y):\n",
    "            root = newton_n(f, df, x_0 + 1j * y_0, max_iter)\n",
    "            k = np.argmin(np.abs(np.ones_like(roots) * root - roots))\n",
    "            result[j, i] = k\n",
    "    return result"
   ]
  },
  {
   "cell_type": "code",
   "execution_count": 61,
   "metadata": {},
   "outputs": [
    {
     "data": {
      "text/latex": [
       "$x \\mapsto \\text{1.0}\\color{LightGray}{ + \\text{0.0}\\,x} - \\text{2.0}\\,x^{2} - \\text{2.0}\\,x^{3}$"
      ],
      "text/plain": [
       "Polynomial([ 1.,  0., -2., -2.], domain=[-1,  1], window=[-1,  1])"
      ]
     },
     "metadata": {},
     "output_type": "display_data"
    },
    {
     "data": {
      "text/latex": [
       "$x \\mapsto \\color{LightGray}{\\text{0.0}} - \\text{4.0}\\,x - \\text{6.0}\\,x^{2}$"
      ],
      "text/plain": [
       "Polynomial([ 0., -4., -6.], domain=[-1.,  1.], window=[-1.,  1.])"
      ]
     },
     "metadata": {},
     "output_type": "display_data"
    }
   ],
   "source": [
    "f = np.polynomial.Polynomial([1., 0, -2.,  -2.])\n",
    "display(f)\n",
    "df = f.deriv()\n",
    "display(df)"
   ]
  },
  {
   "cell_type": "code",
   "execution_count": 106,
   "metadata": {},
   "outputs": [],
   "source": [
    "x = np.linspace(-1., 1., 100)\n",
    "y = np.linspace(-1.0, 1.0, 100)\n",
    "xx, yy = np.meshgrid(x, y)\n",
    "points = np.vstack(np.vstack([xx.ravel(), yy.ravel()])).T\n",
    "points = points[:, 0] + 1j * points[:, 1]"
   ]
  },
  {
   "cell_type": "code",
   "execution_count": 88,
   "metadata": {},
   "outputs": [
    {
     "name": "stdout",
     "output_type": "stream",
     "text": [
      "530 µs ± 119 µs per loop (mean ± std. dev. of 10 runs, 1 loop each)\n"
     ]
    }
   ],
   "source": [
    "%%timeit -n1 -r10\n",
    "newton_n(f, df, 1 + 0.j, 10)"
   ]
  },
  {
   "cell_type": "code",
   "execution_count": 94,
   "metadata": {},
   "outputs": [
    {
     "name": "stdout",
     "output_type": "stream",
     "text": [
      "4.3 s ± 82 ms per loop (mean ± std. dev. of 10 runs, 1 loop each)\n"
     ]
    }
   ],
   "source": [
    "%%timeit -n1 -r1\n",
    "for z in points:\n",
    "    newton_n(f, df, z, 10)"
   ]
  },
  {
   "cell_type": "code",
   "execution_count": 95,
   "metadata": {},
   "outputs": [
    {
     "name": "stdout",
     "output_type": "stream",
     "text": [
      "2.18 ms ± 194 µs per loop (mean ± std. dev. of 10 runs, 1 loop each)\n"
     ]
    }
   ],
   "source": [
    "%%timeit -n1 -r10\n",
    "newton_n_jitted(f, df, 1 + 0.j, 10)"
   ]
  },
  {
   "cell_type": "code",
   "execution_count": 96,
   "metadata": {},
   "outputs": [
    {
     "name": "stdout",
     "output_type": "stream",
     "text": [
      "10.6 s ± 0 ns per loop (mean ± std. dev. of 1 run, 1 loop each)\n"
     ]
    }
   ],
   "source": [
    "%%timeit -n1 -r1\n",
    "for z in points:\n",
    "    newton_n_jitted(f, df, z, 10)"
   ]
  },
  {
   "cell_type": "code",
   "execution_count": 102,
   "metadata": {},
   "outputs": [],
   "source": [
    "roots = f.roots()\n",
    "Z = newton_over_grid(f, df, roots, x, y)"
   ]
  },
  {
   "cell_type": "code",
   "execution_count": 105,
   "metadata": {},
   "outputs": [
    {
     "data": {
      "image/png": "[encoded data removed]",
      "text/plain": [
       "<Figure size 432x288 with 1 Axes>"
      ]
     },
     "metadata": {
      "needs_background": "light"
     },
     "output_type": "display_data"
    }
   ],
   "source": [
    "plt.imshow(Z, cmap='viridis');"
   ]
  }
 ],
 "metadata": {
  "kernelspec": {
   "display_name": "Python 3",
   "language": "python",
   "name": "python3"
  },
  "language_info": {
   "codemirror_mode": {
    "name": "ipython",
    "version": 3
   },
   "file_extension": ".py",
   "mimetype": "text/x-python",
   "name": "python",
   "nbconvert_exporter": "python",
   "pygments_lexer": "ipython3",
   "version": "3.7.3"
  }
 },
 "nbformat": 4,
 "nbformat_minor": 2
}
